{
  "cells": [
    {
      "cell_type": "markdown",
      "metadata": {
        "id": "v3g72y_YBKFy"
      },
      "source": [
        "# Notebook de demostración: validación de tablas finales\n",
        "\n",
        "Este notebook muestra la utilización del módulo `bigdata_validator`, encargado de la validación de las tablas finales del proyecto de automatización de indicadores de Big Data (México).\n",
        "\n",
        "La documentación no se encuentra aquí, sino en el repositorio de GitHub: https://github.com/r-leo/bigdata_validator\n"
      ]
    },
    {
      "cell_type": "markdown",
      "metadata": {
        "id": "V8Fk5xNf-tKT"
      },
      "source": [
        "## 1. Instalación e importación\n",
        "\n",
        "Instalar el módulo `bigdata_validator` e importar su clase `Validator`:"
      ]
    },
    {
      "cell_type": "code",
      "execution_count": 1,
      "metadata": {
        "id": "upvxM0sD7Tuh"
      },
      "outputs": [],
      "source": [
        "%%capture\n",
        "!pip install git+https://github.com/r-leo/bigdata_validator.git"
      ]
    },
    {
      "cell_type": "code",
      "execution_count": 2,
      "metadata": {
        "id": "rsVC8rSt7Z9m"
      },
      "outputs": [],
      "source": [
        "import bigdata_validator\n",
        "from bigdata_validator import Validator"
      ]
    },
    {
      "cell_type": "markdown",
      "metadata": {},
      "source": [
        "Adicionalmente se puede verificar que la versión instalada sea la más reciente (`1.0.0`):"
      ]
    },
    {
      "cell_type": "code",
      "execution_count": 3,
      "metadata": {},
      "outputs": [
        {
          "name": "stdout",
          "output_type": "stream",
          "text": [
            "1.0.0\n"
          ]
        }
      ],
      "source": [
        "print(bigdata_validator.__version__)"
      ]
    },
    {
      "cell_type": "markdown",
      "metadata": {
        "id": "TEpqFEAv-4k0"
      },
      "source": [
        "## 2. Creación de validadores"
      ]
    },
    {
      "cell_type": "markdown",
      "metadata": {
        "id": "0JTgYLTsY9qM"
      },
      "source": [
        "Instanciar los validadores necesarios para los indicadores de **alta frecuencia**:"
      ]
    },
    {
      "cell_type": "code",
      "execution_count": null,
      "metadata": {
        "id": "WB-C4r4BPHYg"
      },
      "outputs": [],
      "source": [
        "# Consumo\n",
        "con = Validator('131_data_consumption_20240301_20250312.csv', region_isocode='COUNTRY_ISOCODE',\n",
        "                region_name='COUNTRY_SHORT_SPANISH_NAME', name='SHORT_SPANISH_NAME')\n",
        "\n",
        "# Inversión\n",
        "inv = Validator('132_data_investment_20240201_20250220.csv', region_isocode='COUNTRY_ISOCODE',\n",
        "                region_name='COUNTRY_SHORT_SPANISH_NAME', name='SHORT_SPANISH_NAME')\n",
        "\n",
        "# Sector exterior\n",
        "exs = Validator('133_data_external_20240101_20250124.csv', region_isocode='COUNTRY_ISOCODE',\n",
        "                region_name='COUNTRY_SHORT_SPANISH_NAME', name='SHORT_SPANISH_NAME')\n",
        "\n",
        "# Actividad sectorial\n",
        "sea = Validator('134_data_sectoral_20240301_20250314.csv', region_isocode='COUNTRY_ISOCODE',\n",
        "                region_name='COUNTRY_SHORT_SPANISH_NAME', name='SUBSECTOR_SHORT_SPA')"
      ]
    },
    {
      "cell_type": "markdown",
      "metadata": {
        "id": "OPvHwNScY--L"
      },
      "source": [
        "Igualmente para el caso de los indicadores de **alta granularidad**:"
      ]
    },
    {
      "cell_type": "code",
      "execution_count": null,
      "metadata": {
        "id": "fSpyTtGoGsqu"
      },
      "outputs": [],
      "source": [
        "# Consumo nacional\n",
        "con_agg = Validator('231_data_consumption_aggregate_20240301_20250314.csv', region_isocode='COUNTRY_ISOCODE',\n",
        "                    region_name='COUNTRY_SHORT_SPANISH_NAME', name='SHORT_SPANISH_NAME')\n",
        "\n",
        "# Consumo por regiones\n",
        "con_reg = Validator('232_data_consumption_regions_20250314_20250314.csv', region_isocode='ISOCODE_PAIS',\n",
        "                    region_name='COUNTRY_SHORT_SPANISH_NAME', name='SHORT_SPANISH_NAME')\n",
        "\n",
        "# Consumo por estados\n",
        "con_sta = Validator('233_data_consumption_states_20240301_20250314.csv', region_isocode='ISOCODE_PAIS',\n",
        "                    region_name='COUNTRY_SHORT_SPANISH_NAME', name='SHORT_SPANISH_NAME')\n",
        "\n",
        "# Consumo por ciudades\n",
        "con_cit = Validator('234_data_consumption_cities_20240301_20250314.csv', region_isocode='ISOCODE',\n",
        "                    region_name='ISOCODE_SHORT_SPANISH_NAME', name='SHORT_SPANISH_NAME')"
      ]
    },
    {
      "cell_type": "markdown",
      "metadata": {
        "id": "OLcLD1xZ_hpv"
      },
      "source": [
        "## 3. Proceso de validación automática"
      ]
    },
    {
      "cell_type": "markdown",
      "metadata": {
        "id": "315fyzUUIgYj"
      },
      "source": [
        "Para efectuar la validación de cada uno de los indicadores basta con llamar al método `.validate()` del validador correspondiente. Si únicamente se quisiera obtener el valor booleano de la validación dentro de un flujo de código, bastaría con llamar al método `.is_valid()` (véase la [documentación](https://github.com/r-leo/bigdata_validator?tab=readme-ov-file#23-validar-dentro-de-un-script-is_valid))."
      ]
    },
    {
      "cell_type": "markdown",
      "metadata": {
        "id": "Sa_3X0_DAPPD"
      },
      "source": [
        "**Resultados de las validaciones de los indicadores de alta frecuencia**"
      ]
    },
    {
      "cell_type": "code",
      "execution_count": null,
      "metadata": {
        "colab": {
          "base_uri": "https://localhost:8080/"
        },
        "id": "I2TF3K9d_kQ0",
        "outputId": "0da83045-6316-48db-ae2c-84ff615ffaf6"
      },
      "outputs": [
        {
          "name": "stdout",
          "output_type": "stream",
          "text": [
            "No se encontraron errores.\n"
          ]
        }
      ],
      "source": [
        "# Consumo\n",
        "con.validate()"
      ]
    },
    {
      "cell_type": "code",
      "execution_count": null,
      "metadata": {
        "colab": {
          "base_uri": "https://localhost:8080/"
        },
        "id": "L_ez0HOcAW5f",
        "outputId": "e45febd0-63ba-4228-c2b9-dd9296ff71fe"
      },
      "outputs": [
        {
          "name": "stdout",
          "output_type": "stream",
          "text": [
            "No se encontraron errores.\n"
          ]
        }
      ],
      "source": [
        "# Inversión\n",
        "inv.validate()"
      ]
    },
    {
      "cell_type": "code",
      "execution_count": null,
      "metadata": {
        "colab": {
          "base_uri": "https://localhost:8080/"
        },
        "id": "adv1gksfAXOU",
        "outputId": "04917963-ef5a-49a9-9069-87c102b2927f"
      },
      "outputs": [
        {
          "name": "stdout",
          "output_type": "stream",
          "text": [
            "No se encontraron errores.\n"
          ]
        }
      ],
      "source": [
        "# Sector exterior\n",
        "exs.validate()"
      ]
    },
    {
      "cell_type": "code",
      "execution_count": null,
      "metadata": {
        "colab": {
          "base_uri": "https://localhost:8080/"
        },
        "id": "unLLdJYEAkjh",
        "outputId": "3d016ac7-abd7-455a-b1e3-06270ff6ba30"
      },
      "outputs": [
        {
          "name": "stdout",
          "output_type": "stream",
          "text": [
            "No se encontraron errores.\n"
          ]
        }
      ],
      "source": [
        "# Actividad sectorial\n",
        "sea.validate()"
      ]
    },
    {
      "cell_type": "markdown",
      "metadata": {
        "id": "zK8JaiHvAmtE"
      },
      "source": [
        "**Resultados de las validaciones de los indicadores de alta granularidad**"
      ]
    },
    {
      "cell_type": "code",
      "execution_count": null,
      "metadata": {
        "colab": {
          "base_uri": "https://localhost:8080/"
        },
        "id": "uCPSo7CfAU7G",
        "outputId": "f69a9bfa-164a-4f2e-f6c5-33120962144a"
      },
      "outputs": [
        {
          "name": "stdout",
          "output_type": "stream",
          "text": [
            "No se encontraron errores.\n"
          ]
        }
      ],
      "source": [
        "# Consumo nacional\n",
        "con_agg.validate()"
      ]
    },
    {
      "cell_type": "code",
      "execution_count": null,
      "metadata": {
        "colab": {
          "base_uri": "https://localhost:8080/"
        },
        "id": "5RgKsKMSA3Jg",
        "outputId": "cb772dcd-2745-4147-8066-c7e6699a2d58"
      },
      "outputs": [
        {
          "name": "stdout",
          "output_type": "stream",
          "text": [
            "No se encontraron errores.\n"
          ]
        }
      ],
      "source": [
        "# Consumo por regiones\n",
        "con_reg.validate()"
      ]
    },
    {
      "cell_type": "code",
      "execution_count": null,
      "metadata": {
        "colab": {
          "base_uri": "https://localhost:8080/"
        },
        "id": "mBxqu9IoA3aY",
        "outputId": "5c8403d6-30ca-4ac2-f657-a6cf953acc0f"
      },
      "outputs": [
        {
          "name": "stdout",
          "output_type": "stream",
          "text": [
            "Errores encontrados (26):\n",
            "\n",
            "1\tEl registro ['N' 'MX-CAM' 'Aerolíneas'] no tiene datos para la última fecha.\n",
            "2\tEl registro ['N' 'MX-COL' 'Aerolíneas'] no tiene datos para la última fecha.\n",
            "3\tEl registro ['N' 'MX-GUA' 'Aerolíneas'] no tiene datos para la última fecha.\n",
            "4\tEl registro ['N' 'MX-HID' 'Aerolíneas'] no tiene datos para la última fecha.\n",
            "5\tEl registro ['N' 'MX-MOR' 'Aerolíneas'] no tiene datos para la última fecha.\n",
            "6\tEl registro ['N' 'MX-NAY' 'Aerolíneas'] no tiene datos para la última fecha.\n",
            "7\tEl registro ['N' 'MX-OAX' 'Aerolíneas'] no tiene datos para la última fecha.\n",
            "8\tEl registro ['N' 'MX-SIN' 'Aerolíneas'] no tiene datos para la última fecha.\n",
            "9\tEl registro ['N' 'MX-SLP' 'Aerolíneas'] no tiene datos para la última fecha.\n",
            "10\tEl registro ['N' 'MX-TAB' 'Aerolíneas'] no tiene datos para la última fecha.\n",
            "11\tEl registro ['N' 'MX-TLA' 'Aerolíneas'] no tiene datos para la última fecha.\n",
            "12\tEl registro ['N' 'MX-VER' 'Aerolíneas'] no tiene datos para la última fecha.\n",
            "13\tEl registro ['N' 'MX-ZAC' 'Aerolíneas'] no tiene datos para la última fecha.\n",
            "14\tEl registro ['R' 'MX-CAM' 'Aerolíneas'] no tiene datos para la última fecha.\n",
            "15\tEl registro ['R' 'MX-COL' 'Aerolíneas'] no tiene datos para la última fecha.\n",
            "16\tEl registro ['R' 'MX-GUA' 'Aerolíneas'] no tiene datos para la última fecha.\n",
            "17\tEl registro ['R' 'MX-HID' 'Aerolíneas'] no tiene datos para la última fecha.\n",
            "18\tEl registro ['R' 'MX-MOR' 'Aerolíneas'] no tiene datos para la última fecha.\n",
            "19\tEl registro ['R' 'MX-NAY' 'Aerolíneas'] no tiene datos para la última fecha.\n",
            "20\tEl registro ['R' 'MX-OAX' 'Aerolíneas'] no tiene datos para la última fecha.\n",
            "21\tEl registro ['R' 'MX-SIN' 'Aerolíneas'] no tiene datos para la última fecha.\n",
            "22\tEl registro ['R' 'MX-SLP' 'Aerolíneas'] no tiene datos para la última fecha.\n",
            "23\tEl registro ['R' 'MX-TAB' 'Aerolíneas'] no tiene datos para la última fecha.\n",
            "24\tEl registro ['R' 'MX-TLA' 'Aerolíneas'] no tiene datos para la última fecha.\n",
            "25\tEl registro ['R' 'MX-VER' 'Aerolíneas'] no tiene datos para la última fecha.\n",
            "26\tEl registro ['R' 'MX-ZAC' 'Aerolíneas'] no tiene datos para la última fecha.\n"
          ]
        }
      ],
      "source": [
        "# Consumo por estados\n",
        "con_sta.validate()"
      ]
    },
    {
      "cell_type": "code",
      "execution_count": null,
      "metadata": {
        "colab": {
          "base_uri": "https://localhost:8080/"
        },
        "id": "-0WcvnH6A3nE",
        "outputId": "39db61f9-c945-45e2-c8dc-409c5dcdf4de"
      },
      "outputs": [
        {
          "name": "stdout",
          "output_type": "stream",
          "text": [
            "No se encontraron errores.\n"
          ]
        }
      ],
      "source": [
        "# Consumo por ciudades\n",
        "con_cit.validate()"
      ]
    },
    {
      "cell_type": "markdown",
      "metadata": {
        "id": "pic5WZJLLlMf"
      },
      "source": [
        "## 4. Corrección de errores\n",
        "\n",
        "El fichero que contiene los datos de **consumo por estados** no pasó satisfactoriamente el proceso de validación. El problema es que para una gran cantidad de fechas, la categoría de 'Aerolíneas' en Sinaloa no tiene datos. La solución propuesta es eliminar la categoría 'Aerolíneas' del fichero:"
      ]
    },
    {
      "cell_type": "code",
      "execution_count": null,
      "metadata": {
        "colab": {
          "base_uri": "https://localhost:8080/"
        },
        "id": "2sLaX6Bqb9zY",
        "outputId": "f6cab064-e493-4b5d-8b3c-305bcb347f8b"
      },
      "outputs": [
        {
          "name": "stdout",
          "output_type": "stream",
          "text": [
            "Filas perdidas: 24258\n"
          ]
        }
      ],
      "source": [
        "import pandas as pd\n",
        "\n",
        "consumption_states_original = pd.read_csv('233_data_consumption_states_20240301_20250314.csv', dtype=str, skip_blank_lines=False)\n",
        "consumption_states_new = consumption_states_original.copy().query('SHORT_SPANISH_NAME != \"Aerolíneas\"')\n",
        "\n",
        "consumption_states_new.to_csv('233_data_consumption_states_20240301_20250314_new.csv', index=False)\n",
        "\n",
        "print('Filas perdidas:', len(consumption_states_original) - len(consumption_states_new))"
      ]
    },
    {
      "cell_type": "markdown",
      "metadata": {
        "id": "ZVodV9EKAOXf"
      },
      "source": [
        "La nueva tabla final corregida se pasa nuevamente por el proceso de validación para verificar que esta vez no devuelva ningún error:"
      ]
    },
    {
      "cell_type": "code",
      "execution_count": null,
      "metadata": {
        "colab": {
          "base_uri": "https://localhost:8080/"
        },
        "id": "LeCAo05Q-ITA",
        "outputId": "55fe2cb7-97cb-43e9-fd52-c248f58ca406"
      },
      "outputs": [
        {
          "name": "stdout",
          "output_type": "stream",
          "text": [
            "No se encontraron errores.\n"
          ]
        }
      ],
      "source": [
        "Validator('233_data_consumption_states_20240301_20250314_new.csv', region_isocode='ISOCODE_PAIS',\n",
        "          region_name='COUNTRY_SHORT_SPANISH_NAME', name='SHORT_SPANISH_NAME').validate()"
      ]
    },
    {
      "cell_type": "markdown",
      "metadata": {
        "id": "5hBJWaiuAwBI"
      },
      "source": [
        "Con esto queda concluido el proceso de validación y corrección de los 8 ficheros muestra para México."
      ]
    },
    {
      "cell_type": "code",
      "execution_count": null,
      "metadata": {
        "id": "aHOvzRfe-aEo"
      },
      "outputs": [],
      "source": []
    }
  ],
  "metadata": {
    "colab": {
      "provenance": []
    },
    "kernelspec": {
      "display_name": "python_3_12",
      "language": "python",
      "name": "python3"
    },
    "language_info": {
      "codemirror_mode": {
        "name": "ipython",
        "version": 3
      },
      "file_extension": ".py",
      "mimetype": "text/x-python",
      "name": "python",
      "nbconvert_exporter": "python",
      "pygments_lexer": "ipython3",
      "version": "3.12.3"
    }
  },
  "nbformat": 4,
  "nbformat_minor": 0
}
