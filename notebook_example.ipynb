{
  "cells": [
    {
      "cell_type": "markdown",
      "metadata": {
        "id": "v3g72y_YBKFy"
      },
      "source": [
        "# Notebook de demostración: validación de tablas finales\n",
        "\n",
        "Este notebook muestra la utilización del módulo `bigdata_validator`, encargado de la validación de las tablas finales del proyecto de automatización de indicadores de Big Data (México).\n",
        "\n",
        "La documentación no se encuentra aquí, sino en el repositorio de GitHub: https://github.com/r-leo/bigdata_validator\n"
      ]
    },
    {
      "cell_type": "markdown",
      "metadata": {
        "id": "V8Fk5xNf-tKT"
      },
      "source": [
        "## 1. Instalación e importación\n",
        "\n",
        "Instalar el módulo `bigdata_validator` e importar su clase `Validator`:"
      ]
    },
    {
      "cell_type": "code",
      "execution_count": 1,
      "metadata": {
        "id": "upvxM0sD7Tuh"
      },
      "outputs": [],
      "source": [
        "%%capture\n",
        "%pip install git+https://github.com/r-leo/bigdata_validator.git"
      ]
    },
    {
      "cell_type": "code",
      "execution_count": 1,
      "metadata": {
        "id": "rsVC8rSt7Z9m"
      },
      "outputs": [],
      "source": [
        "import bigdata_validator\n",
        "from bigdata_validator import Validator"
      ]
    },
    {
      "cell_type": "markdown",
      "metadata": {},
      "source": [
        "Adicionalmente se puede verificar que la versión instalada sea la más reciente (`2.0.0`):"
      ]
    },
    {
      "cell_type": "code",
      "execution_count": 2,
      "metadata": {},
      "outputs": [
        {
          "name": "stdout",
          "output_type": "stream",
          "text": [
            "2.0.0\n"
          ]
        }
      ],
      "source": [
        "print(bigdata_validator.__version__)"
      ]
    },
    {
      "cell_type": "markdown",
      "metadata": {
        "id": "TEpqFEAv-4k0"
      },
      "source": [
        "## 2. Creación de validadores"
      ]
    },
    {
      "cell_type": "markdown",
      "metadata": {
        "id": "0JTgYLTsY9qM"
      },
      "source": [
        "Instanciar los validadores necesarios para los **cuatro** indicadores de **alta frecuencia**:"
      ]
    },
    {
      "cell_type": "code",
      "execution_count": 3,
      "metadata": {
        "id": "WB-C4r4BPHYg"
      },
      "outputs": [],
      "source": [
        "# Consumo\n",
        "con = Validator('tables/131.csv', indicator='hf_consumption')\n",
        "\n",
        "# Inversión\n",
        "inv = Validator('tables/132.csv', indicator='hf_investment')\n",
        "\n",
        "# Sector exterior\n",
        "exs = Validator('tables/133.csv', indicator='hf_external')\n",
        "\n",
        "# Actividad sectorial\n",
        "sea = Validator('tables/134.csv', indicator='hf_sectoral')"
      ]
    },
    {
      "cell_type": "markdown",
      "metadata": {
        "id": "OPvHwNScY--L"
      },
      "source": [
        "Igualmente para el caso de los **cuatro** indicadores de **alta granularidad**:"
      ]
    },
    {
      "cell_type": "code",
      "execution_count": 4,
      "metadata": {
        "id": "fSpyTtGoGsqu"
      },
      "outputs": [],
      "source": [
        "# Consumo nacional\n",
        "con_agg = Validator('tables/231.csv', indicator='hg_national')\n",
        "\n",
        "# Consumo por regiones\n",
        "con_reg = Validator('tables/232.csv', indicator='hg_regions')\n",
        "\n",
        "# Consumo por estados\n",
        "con_sta = Validator('tables/233.csv', indicator='hg_states')\n",
        "\n",
        "# Consumo por ciudades\n",
        "con_cit = Validator('tables/234.csv', indicator='hg_cities')"
      ]
    },
    {
      "cell_type": "markdown",
      "metadata": {},
      "source": [
        "Y finalmente los **ocho** indicadores **globales**:"
      ]
    },
    {
      "cell_type": "code",
      "execution_count": 5,
      "metadata": {},
      "outputs": [],
      "source": [
        "# Global - consumo\n",
        "global_con = Validator('tables/global_131.csv', indicator='hf_consumption')\n",
        "\n",
        "# Global - inversión\n",
        "global_inv = Validator('tables/global_132.csv', indicator='hf_investment')\n",
        "\n",
        "# Global - sector exterior\n",
        "global_exs = Validator('tables/global_133.csv', indicator='hf_external')\n",
        "\n",
        "# Global - actividad sectorial\n",
        "global_sea = Validator('tables/global_134.csv', indicator='hf_sectoral')\n",
        "\n",
        "# Global - consumo nacional\n",
        "global_con_agg = Validator('tables/global_231.csv', indicator='hg_national')\n",
        "\n",
        "# Global - consumo por regiones\n",
        "global_con_reg = Validator('tables/global_232.csv', indicator='hg_regions')\n",
        "\n",
        "# Global - consumo por estados\n",
        "global_con_sta = Validator('tables/global_233.csv', indicator='hg_states')\n",
        "\n",
        "# Global - consumo por ciudades\n",
        "global_con_cit = Validator('tables/global_234.csv', indicator='hg_cities')"
      ]
    },
    {
      "cell_type": "markdown",
      "metadata": {
        "id": "OLcLD1xZ_hpv"
      },
      "source": [
        "## 3. Proceso de validación automática"
      ]
    },
    {
      "cell_type": "markdown",
      "metadata": {
        "id": "315fyzUUIgYj"
      },
      "source": [
        "Para efectuar la validación de cada uno de los indicadores basta con llamar al método `.validate()` del validador correspondiente. Si únicamente se quisiera obtener el valor booleano de la validación dentro de un flujo de código, bastaría con llamar al método `.is_valid()` (véase la [documentación](https://github.com/r-leo/bigdata_validator?tab=readme-ov-file#23-validar-dentro-de-un-script-is_valid))."
      ]
    },
    {
      "cell_type": "markdown",
      "metadata": {
        "id": "Sa_3X0_DAPPD"
      },
      "source": [
        "**Resultados de las validaciones de los indicadores de alta frecuencia**"
      ]
    },
    {
      "cell_type": "code",
      "execution_count": 6,
      "metadata": {
        "colab": {
          "base_uri": "https://localhost:8080/"
        },
        "id": "I2TF3K9d_kQ0",
        "outputId": "0da83045-6316-48db-ae2c-84ff615ffaf6"
      },
      "outputs": [
        {
          "name": "stdout",
          "output_type": "stream",
          "text": [
            "No se encontraron errores.\n"
          ]
        }
      ],
      "source": [
        "# Consumo\n",
        "con.validate()"
      ]
    },
    {
      "cell_type": "code",
      "execution_count": 7,
      "metadata": {
        "colab": {
          "base_uri": "https://localhost:8080/"
        },
        "id": "L_ez0HOcAW5f",
        "outputId": "e45febd0-63ba-4228-c2b9-dd9296ff71fe"
      },
      "outputs": [
        {
          "name": "stdout",
          "output_type": "stream",
          "text": [
            "No se encontraron errores.\n"
          ]
        }
      ],
      "source": [
        "# Inversión\n",
        "inv.validate()"
      ]
    },
    {
      "cell_type": "code",
      "execution_count": 8,
      "metadata": {
        "colab": {
          "base_uri": "https://localhost:8080/"
        },
        "id": "adv1gksfAXOU",
        "outputId": "04917963-ef5a-49a9-9069-87c102b2927f"
      },
      "outputs": [
        {
          "name": "stdout",
          "output_type": "stream",
          "text": [
            "No se encontraron errores.\n"
          ]
        }
      ],
      "source": [
        "# Sector exterior\n",
        "exs.validate()"
      ]
    },
    {
      "cell_type": "code",
      "execution_count": 9,
      "metadata": {
        "colab": {
          "base_uri": "https://localhost:8080/"
        },
        "id": "unLLdJYEAkjh",
        "outputId": "3d016ac7-abd7-455a-b1e3-06270ff6ba30"
      },
      "outputs": [
        {
          "name": "stdout",
          "output_type": "stream",
          "text": [
            "No se encontraron errores.\n"
          ]
        }
      ],
      "source": [
        "# Actividad sectorial\n",
        "sea.validate()"
      ]
    },
    {
      "cell_type": "markdown",
      "metadata": {
        "id": "zK8JaiHvAmtE"
      },
      "source": [
        "**Resultados de las validaciones de los indicadores de alta granularidad**"
      ]
    },
    {
      "cell_type": "code",
      "execution_count": 10,
      "metadata": {
        "colab": {
          "base_uri": "https://localhost:8080/"
        },
        "id": "uCPSo7CfAU7G",
        "outputId": "f69a9bfa-164a-4f2e-f6c5-33120962144a"
      },
      "outputs": [
        {
          "name": "stdout",
          "output_type": "stream",
          "text": [
            "No se encontraron errores.\n"
          ]
        }
      ],
      "source": [
        "# Consumo nacional\n",
        "con_agg.validate()"
      ]
    },
    {
      "cell_type": "code",
      "execution_count": 11,
      "metadata": {
        "colab": {
          "base_uri": "https://localhost:8080/"
        },
        "id": "5RgKsKMSA3Jg",
        "outputId": "cb772dcd-2745-4147-8066-c7e6699a2d58"
      },
      "outputs": [
        {
          "name": "stdout",
          "output_type": "stream",
          "text": [
            "No se encontraron errores.\n"
          ]
        }
      ],
      "source": [
        "# Consumo por regiones\n",
        "con_reg.validate()"
      ]
    },
    {
      "cell_type": "code",
      "execution_count": 12,
      "metadata": {
        "colab": {
          "base_uri": "https://localhost:8080/"
        },
        "id": "mBxqu9IoA3aY",
        "outputId": "5c8403d6-30ca-4ac2-f657-a6cf953acc0f"
      },
      "outputs": [
        {
          "name": "stdout",
          "output_type": "stream",
          "text": [
            "Errores encontrados (26):\n",
            "\n",
            "1\tEl registro ['N' 'MX-CAM' 'Airlines'] no tiene datos para la última fecha.\n",
            "2\tEl registro ['N' 'MX-COL' 'Airlines'] no tiene datos para la última fecha.\n",
            "3\tEl registro ['N' 'MX-GUA' 'Airlines'] no tiene datos para la última fecha.\n",
            "4\tEl registro ['N' 'MX-HID' 'Airlines'] no tiene datos para la última fecha.\n",
            "5\tEl registro ['N' 'MX-MOR' 'Airlines'] no tiene datos para la última fecha.\n",
            "6\tEl registro ['N' 'MX-NAY' 'Airlines'] no tiene datos para la última fecha.\n",
            "7\tEl registro ['N' 'MX-OAX' 'Airlines'] no tiene datos para la última fecha.\n",
            "8\tEl registro ['N' 'MX-SIN' 'Airlines'] no tiene datos para la última fecha.\n",
            "9\tEl registro ['N' 'MX-SLP' 'Airlines'] no tiene datos para la última fecha.\n",
            "10\tEl registro ['N' 'MX-TAB' 'Airlines'] no tiene datos para la última fecha.\n",
            "11\tEl registro ['N' 'MX-TLA' 'Airlines'] no tiene datos para la última fecha.\n",
            "12\tEl registro ['N' 'MX-VER' 'Airlines'] no tiene datos para la última fecha.\n",
            "13\tEl registro ['N' 'MX-ZAC' 'Airlines'] no tiene datos para la última fecha.\n",
            "14\tEl registro ['R' 'MX-CAM' 'Airlines'] no tiene datos para la última fecha.\n",
            "15\tEl registro ['R' 'MX-COL' 'Airlines'] no tiene datos para la última fecha.\n",
            "16\tEl registro ['R' 'MX-GUA' 'Airlines'] no tiene datos para la última fecha.\n",
            "17\tEl registro ['R' 'MX-HID' 'Airlines'] no tiene datos para la última fecha.\n",
            "18\tEl registro ['R' 'MX-MOR' 'Airlines'] no tiene datos para la última fecha.\n",
            "19\tEl registro ['R' 'MX-NAY' 'Airlines'] no tiene datos para la última fecha.\n",
            "20\tEl registro ['R' 'MX-OAX' 'Airlines'] no tiene datos para la última fecha.\n",
            "21\tEl registro ['R' 'MX-SIN' 'Airlines'] no tiene datos para la última fecha.\n",
            "22\tEl registro ['R' 'MX-SLP' 'Airlines'] no tiene datos para la última fecha.\n",
            "23\tEl registro ['R' 'MX-TAB' 'Airlines'] no tiene datos para la última fecha.\n",
            "24\tEl registro ['R' 'MX-TLA' 'Airlines'] no tiene datos para la última fecha.\n",
            "25\tEl registro ['R' 'MX-VER' 'Airlines'] no tiene datos para la última fecha.\n",
            "26\tEl registro ['R' 'MX-ZAC' 'Airlines'] no tiene datos para la última fecha.\n"
          ]
        }
      ],
      "source": [
        "# Consumo por estados\n",
        "con_sta.validate()"
      ]
    },
    {
      "cell_type": "code",
      "execution_count": 13,
      "metadata": {
        "colab": {
          "base_uri": "https://localhost:8080/"
        },
        "id": "-0WcvnH6A3nE",
        "outputId": "39db61f9-c945-45e2-c8dc-409c5dcdf4de"
      },
      "outputs": [
        {
          "name": "stdout",
          "output_type": "stream",
          "text": [
            "No se encontraron errores.\n"
          ]
        }
      ],
      "source": [
        "# Consumo por ciudades\n",
        "con_cit.validate()"
      ]
    },
    {
      "cell_type": "markdown",
      "metadata": {},
      "source": [
        "**Resultados de las validaciones de los indicadores globales**"
      ]
    },
    {
      "cell_type": "code",
      "execution_count": 14,
      "metadata": {},
      "outputs": [
        {
          "name": "stdout",
          "output_type": "stream",
          "text": [
            "No se encontraron errores.\n"
          ]
        }
      ],
      "source": [
        "# Global - consumo\n",
        "global_con.validate()"
      ]
    },
    {
      "cell_type": "code",
      "execution_count": 15,
      "metadata": {},
      "outputs": [
        {
          "name": "stdout",
          "output_type": "stream",
          "text": [
            "No se encontraron errores.\n"
          ]
        }
      ],
      "source": [
        "# Global - inversión\n",
        "global_inv.validate()"
      ]
    },
    {
      "cell_type": "code",
      "execution_count": 16,
      "metadata": {},
      "outputs": [
        {
          "name": "stdout",
          "output_type": "stream",
          "text": [
            "No se encontraron errores.\n"
          ]
        }
      ],
      "source": [
        "# Global - sector exterior\n",
        "global_exs.validate()"
      ]
    },
    {
      "cell_type": "code",
      "execution_count": 17,
      "metadata": {},
      "outputs": [
        {
          "name": "stdout",
          "output_type": "stream",
          "text": [
            "No se encontraron errores.\n"
          ]
        }
      ],
      "source": [
        "# Global - actividad sectorial\n",
        "global_sea.validate()"
      ]
    },
    {
      "cell_type": "code",
      "execution_count": 18,
      "metadata": {},
      "outputs": [
        {
          "name": "stdout",
          "output_type": "stream",
          "text": [
            "No se encontraron errores.\n"
          ]
        }
      ],
      "source": [
        "# Global - consumo nacional\n",
        "global_con_agg.validate()"
      ]
    },
    {
      "cell_type": "code",
      "execution_count": 19,
      "metadata": {},
      "outputs": [
        {
          "name": "stdout",
          "output_type": "stream",
          "text": [
            "No se encontraron errores.\n"
          ]
        }
      ],
      "source": [
        "# Global - consumo por regiones\n",
        "global_con_reg.validate()"
      ]
    },
    {
      "cell_type": "code",
      "execution_count": 20,
      "metadata": {},
      "outputs": [
        {
          "name": "stdout",
          "output_type": "stream",
          "text": [
            "Errores encontrados (26):\n",
            "\n",
            "1\tEl registro ['N' 'MX-CAM' 'Airlines'] no tiene datos para la última fecha.\n",
            "2\tEl registro ['N' 'MX-COL' 'Airlines'] no tiene datos para la última fecha.\n",
            "3\tEl registro ['N' 'MX-GUA' 'Airlines'] no tiene datos para la última fecha.\n",
            "4\tEl registro ['N' 'MX-HID' 'Airlines'] no tiene datos para la última fecha.\n",
            "5\tEl registro ['N' 'MX-MOR' 'Airlines'] no tiene datos para la última fecha.\n",
            "6\tEl registro ['N' 'MX-NAY' 'Airlines'] no tiene datos para la última fecha.\n",
            "7\tEl registro ['N' 'MX-OAX' 'Airlines'] no tiene datos para la última fecha.\n",
            "8\tEl registro ['N' 'MX-SIN' 'Airlines'] no tiene datos para la última fecha.\n",
            "9\tEl registro ['N' 'MX-SLP' 'Airlines'] no tiene datos para la última fecha.\n",
            "10\tEl registro ['N' 'MX-TAB' 'Airlines'] no tiene datos para la última fecha.\n",
            "11\tEl registro ['N' 'MX-TLA' 'Airlines'] no tiene datos para la última fecha.\n",
            "12\tEl registro ['N' 'MX-VER' 'Airlines'] no tiene datos para la última fecha.\n",
            "13\tEl registro ['N' 'MX-ZAC' 'Airlines'] no tiene datos para la última fecha.\n",
            "14\tEl registro ['R' 'MX-CAM' 'Airlines'] no tiene datos para la última fecha.\n",
            "15\tEl registro ['R' 'MX-COL' 'Airlines'] no tiene datos para la última fecha.\n",
            "16\tEl registro ['R' 'MX-GUA' 'Airlines'] no tiene datos para la última fecha.\n",
            "17\tEl registro ['R' 'MX-HID' 'Airlines'] no tiene datos para la última fecha.\n",
            "18\tEl registro ['R' 'MX-MOR' 'Airlines'] no tiene datos para la última fecha.\n",
            "19\tEl registro ['R' 'MX-NAY' 'Airlines'] no tiene datos para la última fecha.\n",
            "20\tEl registro ['R' 'MX-OAX' 'Airlines'] no tiene datos para la última fecha.\n",
            "21\tEl registro ['R' 'MX-SIN' 'Airlines'] no tiene datos para la última fecha.\n",
            "22\tEl registro ['R' 'MX-SLP' 'Airlines'] no tiene datos para la última fecha.\n",
            "23\tEl registro ['R' 'MX-TAB' 'Airlines'] no tiene datos para la última fecha.\n",
            "24\tEl registro ['R' 'MX-TLA' 'Airlines'] no tiene datos para la última fecha.\n",
            "25\tEl registro ['R' 'MX-VER' 'Airlines'] no tiene datos para la última fecha.\n",
            "26\tEl registro ['R' 'MX-ZAC' 'Airlines'] no tiene datos para la última fecha.\n"
          ]
        }
      ],
      "source": [
        "# gGlobal - consumo por estados\n",
        "global_con_sta.validate()"
      ]
    },
    {
      "cell_type": "code",
      "execution_count": 21,
      "metadata": {},
      "outputs": [
        {
          "name": "stdout",
          "output_type": "stream",
          "text": [
            "No se encontraron errores.\n"
          ]
        }
      ],
      "source": [
        "# Global - consumo por ciudades\n",
        "global_con_cit.validate()"
      ]
    },
    {
      "cell_type": "markdown",
      "metadata": {
        "id": "pic5WZJLLlMf"
      },
      "source": [
        "## 4. Corrección de errores\n",
        "\n",
        "El fichero que contiene los datos de **consumo por estados** (tanto el local como el global) no pasaron satisfactoriamente el proceso de validación. El problema es que para una gran cantidad de fechas, la categoría de 'Aerolíneas' en Sinaloa no tiene datos. La solución propuesta es eliminar la categoría 'Aerolíneas' en ambos ficheros:"
      ]
    },
    {
      "cell_type": "code",
      "execution_count": 22,
      "metadata": {
        "colab": {
          "base_uri": "https://localhost:8080/"
        },
        "id": "2sLaX6Bqb9zY",
        "outputId": "f6cab064-e493-4b5d-8b3c-305bcb347f8b"
      },
      "outputs": [
        {
          "name": "stdout",
          "output_type": "stream",
          "text": [
            "Filas perdidas (local):  24258\n",
            "Filas perdidas (global): 24258\n"
          ]
        }
      ],
      "source": [
        "import pandas as pd\n",
        "\n",
        "# Leer fichero de consumo por estados\n",
        "states_original = pd.read_csv('tables/233.csv', dtype=str, skip_blank_lines=False)\n",
        "# Leer fichero de consumo por estados (global)\n",
        "global_states_original = pd.read_csv('tables/global_233.csv', dtype=str, skip_blank_lines=False)\n",
        "\n",
        "# Eliminar la categoría \"Aerolíneas\" en ambos DataFrames\n",
        "states_new = states_original.copy().query('SHORT_SPANISH_NAME != \"Aerolíneas\"')\n",
        "global_states_new = global_states_original.copy().query('SHORT_SPANISH_NAME != \"Aerolíneas\"')\n",
        "\n",
        "# Guardar fichero de consumo por estados\n",
        "states_new.to_csv('tables/233_NEW.csv', index=False)\n",
        "# Guardar fichero de consumo por estados (global)\n",
        "global_states_new.to_csv('tables/global_233_NEW.csv', index=False)\n",
        "\n",
        "# Imprimir el número de filas eliminadas en cada fichero\n",
        "print('Filas perdidas (local): ', len(states_original) - len(states_new))\n",
        "print('Filas perdidas (global):', len(global_states_original) - len(global_states_new))"
      ]
    },
    {
      "cell_type": "markdown",
      "metadata": {
        "id": "ZVodV9EKAOXf"
      },
      "source": [
        "Una vez corregidas, ambas tablas se pasan nuevamente por el proceso de validación para verificar que esta vez no devuelvan ningún error:"
      ]
    },
    {
      "cell_type": "code",
      "execution_count": 23,
      "metadata": {
        "colab": {
          "base_uri": "https://localhost:8080/"
        },
        "id": "LeCAo05Q-ITA",
        "outputId": "55fe2cb7-97cb-43e9-fd52-c248f58ca406"
      },
      "outputs": [
        {
          "name": "stdout",
          "output_type": "stream",
          "text": [
            "No se encontraron errores.\n"
          ]
        }
      ],
      "source": [
        "# Consumo por estados\n",
        "Validator('tables/233_NEW.csv', indicator='hg_states').validate()"
      ]
    },
    {
      "cell_type": "code",
      "execution_count": 24,
      "metadata": {},
      "outputs": [
        {
          "name": "stdout",
          "output_type": "stream",
          "text": [
            "No se encontraron errores.\n"
          ]
        }
      ],
      "source": [
        "# Global - consumo por estados\n",
        "Validator('tables/global_233_NEW.csv', indicator='hg_states').validate()"
      ]
    },
    {
      "cell_type": "markdown",
      "metadata": {
        "id": "5hBJWaiuAwBI"
      },
      "source": [
        "Con esto queda concluido el proceso de validación y corrección de los 16 ficheros muestra para México."
      ]
    }
  ],
  "metadata": {
    "colab": {
      "provenance": []
    },
    "kernelspec": {
      "display_name": "python_3_12",
      "language": "python",
      "name": "python3"
    },
    "language_info": {
      "codemirror_mode": {
        "name": "ipython",
        "version": 3
      },
      "file_extension": ".py",
      "mimetype": "text/x-python",
      "name": "python",
      "nbconvert_exporter": "python",
      "pygments_lexer": "ipython3",
      "version": "3.12.3"
    }
  },
  "nbformat": 4,
  "nbformat_minor": 0
}
